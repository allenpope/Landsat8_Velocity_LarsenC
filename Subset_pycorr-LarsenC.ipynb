{
 "cells": [
  {
   "cell_type": "code",
   "execution_count": 1,
   "metadata": {
    "collapsed": false
   },
   "outputs": [],
   "source": [
    "#Defining reprojection parameters\n",
    "#For LarsenC\n",
    "\n",
    "pixel = 300\n",
    "left = -2400000\n",
    "right = (round((-1850000-left)/300))*300+left\n",
    "top = 1300000\n",
    "bottom = (round((950000-top)/300))*300+top\n",
    "\n",
    "inpath = \"/Users/apope/Desktop/pycorr/Out/LarsenC/\"\n",
    "replace1 = 'LarsenC'\n",
    "replace2 = 'LarsenC/Crop'"
   ]
  },
  {
   "cell_type": "code",
   "execution_count": 2,
   "metadata": {
    "collapsed": false
   },
   "outputs": [],
   "source": [
    "#vx files\n",
    "import os\n",
    "import glob\n",
    "\n",
    "files = glob.glob(inpath+\"*vx.tif\")\n",
    "\n",
    "for file in files:\n",
    "    file_out = file.replace(replace1,replace2)\n",
    "    os.system('gdalwarp -s_srs EPSG:3031 -t_srs EPSG:3031 -r bilinear -multi -dstnodata 0 -of GTiff '+\\\n",
    "    '-tr '+str(pixel)+' '+str(pixel)+' -te '+str(left)+' '+str(bottom)+' '+str(right)+' '+str(top)+' '+\\\n",
    "    file+' '+file_out)\n",
    "\n",
    "#vy files\n",
    "files = glob.glob(inpath+\"*vy.tif\")\n",
    "\n",
    "for file in files:\n",
    "    file_out = file.replace(replace1,replace2)\n",
    "    os.system('gdalwarp -s_srs EPSG:3031 -t_srs EPSG:3031 -r bilinear -multi -dstnodata 0 -of GTiff '+\\\n",
    "    '-tr '+str(pixel)+' '+str(pixel)+' -te '+str(left)+' '+str(bottom)+' '+str(right)+' '+str(top)+' '+\\\n",
    "    file+' '+file_out)\n",
    "    \n",
    "#delcorr files\n",
    "files = glob.glob(inpath+\"*delcorr.tif\")\n",
    "\n",
    "for file in files:\n",
    "    file_out = file.replace(replace1,replace2)\n",
    "    os.system('gdalwarp -s_srs EPSG:3031 -t_srs EPSG:3031 -r bilinear -multi -dstnodata 0 -of GTiff '+\\\n",
    "    '-tr '+str(pixel)+' '+str(pixel)+' -te '+str(left)+' '+str(bottom)+' '+str(right)+' '+str(top)+' '+\\\n",
    "    file+' '+file_out)"
   ]
  },
  {
   "cell_type": "code",
   "execution_count": 33,
   "metadata": {
    "collapsed": true
   },
   "outputs": [],
   "source": []
  },
  {
   "cell_type": "code",
   "execution_count": null,
   "metadata": {
    "collapsed": true
   },
   "outputs": [],
   "source": [
    "#deactivate"
   ]
  }
 ],
 "metadata": {
  "kernelspec": {
   "display_name": "Python 2",
   "language": "python",
   "name": "python2"
  },
  "language_info": {
   "codemirror_mode": {
    "name": "ipython",
    "version": 2
   },
   "file_extension": ".py",
   "mimetype": "text/x-python",
   "name": "python",
   "nbconvert_exporter": "python",
   "pygments_lexer": "ipython2",
   "version": "2.7.10"
  }
 },
 "nbformat": 4,
 "nbformat_minor": 0
}
