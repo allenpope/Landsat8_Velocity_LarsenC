{
 "cells": [
  {
   "cell_type": "code",
   "execution_count": 1,
   "metadata": {
    "collapsed": true
   },
   "outputs": [],
   "source": [
    "#http://docs.python-guide.org/en/latest/dev/virtualenvs/\n",
    "#move to virtual environment and load it\n",
    "#os.system(\"cd /Users/apope/Documents/Landsat_downloads/\")\n",
    "#os.system(\"source venv/bin/activate\")"
   ]
  },
  {
   "cell_type": "code",
   "execution_count": 2,
   "metadata": {
    "collapsed": false
   },
   "outputs": [
    {
     "name": "stdout",
     "output_type": "stream",
     "text": [
      "Scenes:\n",
      "['LC82181062016326LGN00']\n",
      "Processing LC82181062016326LGN00\n"
     ]
    }
   ],
   "source": [
    "#Download Landsat Scenes\n",
    "\n",
    "#Import list from file\n",
    "in_file = \"/Users/apope/Dropbox/Transfer/To NSIDC/LANDSAT_LarsenC.csv\"\n",
    "outpath = \"/Users/apope/Desktop/pycorr/In/LarsenC/\"\n",
    "\n",
    "import csv\n",
    "import os\n",
    "\n",
    "with open(in_file, 'rU') as inputfile:\n",
    "    l = list(csv.reader(inputfile))\n",
    "\n",
    "scenes = list([item for sublist in l for item in sublist]) #list of lists to just a list    \n",
    "print \"Scenes:\"\n",
    "print scenes\n",
    "\n",
    "for x in scenes:\n",
    "    os.system(\"landsat download -b 8 \" + x)\n",
    "    \n",
    "    \n",
    "#Unzip and Move Scenes as appropriate\n",
    "import shutil\n",
    "\n",
    "os.chdir(\"/Users/apope/landsat/downloads/\")\n",
    "\n",
    "for x in scenes:\n",
    "    if os.path.isfile(x + \".tar.bz\") is True:\n",
    "        print \"Processing \" + x\n",
    "        os.system(\"tar -xjvf \" + x + \".tar.bz \" + x + \"_B8.TIF\")\n",
    "        shutil.move(x + \"_B8.TIF\", outpath + x + \"_B8.TIF\")\n",
    "        os.remove(x + \".tar.bz\")\n",
    "        if os.path.exists(x) is True:\n",
    "            shutil.rmtree(x)\n",
    "    elif os.path.isfile(x + \"/\" + x + \"_B8.TIF\") is True:\n",
    "        print \"Processing \" + x\n",
    "        shutil.move(x + \"/\" + x + \"_B8.TIF\", outpath + x + \"_B8.TIF\")\n",
    "        shutil.rmtree(x)\n",
    "    else:\n",
    "        print \"No File Named \" + x"
   ]
  },
  {
   "cell_type": "code",
   "execution_count": null,
   "metadata": {
    "collapsed": true
   },
   "outputs": [],
   "source": [
    "#deactivate"
   ]
  }
 ],
 "metadata": {
  "kernelspec": {
   "display_name": "Python 2",
   "language": "python",
   "name": "python2"
  },
  "language_info": {
   "codemirror_mode": {
    "name": "ipython",
    "version": 2
   },
   "file_extension": ".py",
   "mimetype": "text/x-python",
   "name": "python",
   "nbconvert_exporter": "python",
   "pygments_lexer": "ipython2",
   "version": "2.7.10"
  }
 },
 "nbformat": 4,
 "nbformat_minor": 0
}
